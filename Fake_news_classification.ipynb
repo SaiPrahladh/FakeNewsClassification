{
  "nbformat": 4,
  "nbformat_minor": 0,
  "metadata": {
    "colab": {
      "name": "Fake_news_classification",
      "provenance": [],
      "collapsed_sections": []
    },
    "kernelspec": {
      "name": "python3",
      "display_name": "Python 3"
    }
  },
  "cells": [
    {
      "cell_type": "code",
      "metadata": {
        "id": "ImGWoJFitBWM",
        "colab_type": "code",
        "outputId": "4044c140-ac2b-42db-b80e-c8932210acb9",
        "colab": {
          "base_uri": "https://localhost:8080/",
          "height": 104
        }
      },
      "source": [
        "import pandas as pd\n",
        "import matplotlib.pyplot as plt\n",
        "from sklearn import *\n",
        "import re\n",
        "import numpy as np\n",
        "import nltk\n",
        "from nltk.corpus import stopwords \n",
        "nltk.download('stopwords')\n",
        "from sklearn.metrics import accuracy_score\n",
        "from sklearn.metrics import confusion_matrix\n",
        "import seaborn as sns\n",
        "from heapq import nlargest \n",
        "import math"
      ],
      "execution_count": 1,
      "outputs": [
        {
          "output_type": "stream",
          "text": [
            "[nltk_data] Downloading package stopwords to /root/nltk_data...\n",
            "[nltk_data]   Package stopwords is already up-to-date!\n"
          ],
          "name": "stdout"
        },
        {
          "output_type": "stream",
          "text": [
            "/usr/local/lib/python3.6/dist-packages/statsmodels/tools/_testing.py:19: FutureWarning: pandas.util.testing is deprecated. Use the functions in the public API at pandas.testing instead.\n",
            "  import pandas.util.testing as tm\n"
          ],
          "name": "stderr"
        }
      ]
    },
    {
      "cell_type": "code",
      "metadata": {
        "id": "FGFNF5IBtSDW",
        "colab_type": "code",
        "colab": {}
      },
      "source": [
        "df = pd.read_csv(\"csv/real_fake.csv\")\n"
      ],
      "execution_count": 0,
      "outputs": []
    },
    {
      "cell_type": "code",
      "metadata": {
        "id": "afodkvgStV_W",
        "colab_type": "code",
        "colab": {}
      },
      "source": [
        "df = df.set_index(\"Unnamed: 0\") "
      ],
      "execution_count": 0,
      "outputs": []
    },
    {
      "cell_type": "code",
      "metadata": {
        "id": "Z_Yek76WtYc2",
        "colab_type": "code",
        "colab": {}
      },
      "source": [
        "y = df['Label']\n",
        "\n",
        "X_train, X_test, y_train, y_test = model_selection.train_test_split(df['text'], y, test_size=0.35, random_state=53)"
      ],
      "execution_count": 0,
      "outputs": []
    },
    {
      "cell_type": "code",
      "metadata": {
        "id": "_had2gD2tal4",
        "colab_type": "code",
        "colab": {}
      },
      "source": [
        "def get_words(sentence):\n",
        "    ignore = ['a','an','the','is','in','ourselves', 'hers', 'between', 'yourself', 'but', 'again', 'there', 'about', 'once', 'during', 'out', 'very', 'having', 'with', 'they', 'own', 'be', 'some', 'for', 'do', 'its', 'yours', 'such', 'into', 'of', 'most', 'itself', 'other', 'off', 'am', 'or', 'who', 'as', 'from', 'him', 'each','would','also','like','could']\n",
        "    words = re.sub(\"[^A-Za-z0–9\\w]\", \" \",  sentence).split()\n",
        "    \n",
        "    cleaned_text = [w.lower() for w in words if w not in ignore]    \n",
        "    return cleaned_text"
      ],
      "execution_count": 0,
      "outputs": []
    },
    {
      "cell_type": "code",
      "metadata": {
        "id": "axBO5gdFtcte",
        "colab_type": "code",
        "colab": {}
      },
      "source": [
        "def tokenize(Text):\n",
        "    w = []\n",
        "    for index in range(len(Text)):\n",
        "    \n",
        "        w.append(get_words(Text.iloc[index]))\n",
        "    return w"
      ],
      "execution_count": 0,
      "outputs": []
    },
    {
      "cell_type": "code",
      "metadata": {
        "id": "DFErxJbRte6m",
        "colab_type": "code",
        "colab": {}
      },
      "source": [
        "stop_words = set(stopwords.words('english')) "
      ],
      "execution_count": 0,
      "outputs": []
    },
    {
      "cell_type": "code",
      "metadata": {
        "id": "4VdHRpJJtiFK",
        "colab_type": "code",
        "colab": {}
      },
      "source": [
        "X_train_dict = np.asanyarray(tokenize(X_train))\n",
        "dict_of_words = {}\n",
        "\n",
        "for i in X_train_dict:\n",
        "    for words in i:\n",
        "        if(len(words)>2):\n",
        "            if dict_of_words.get(words)!=None:\n",
        "                dict_of_words[words]=dict_of_words.get(words)+1\n",
        "            elif words in stop_words:\n",
        "                continue\n",
        "            else:\n",
        "                dict_of_words[words]=1\n",
        "            \n",
        "dict_of_words = {k: v for k, v in sorted(dict_of_words.items(), key=lambda item: item[1],reverse=True)}"
      ],
      "execution_count": 0,
      "outputs": []
    },
    {
      "cell_type": "code",
      "metadata": {
        "id": "WalPRCKGtlji",
        "colab_type": "code",
        "colab": {}
      },
      "source": [
        "\n",
        "len_Xtrain = X_train_dict.shape[0]\n",
        "\n",
        "y_temp = list(y_train)"
      ],
      "execution_count": 0,
      "outputs": []
    },
    {
      "cell_type": "code",
      "metadata": {
        "id": "61bamxWK6643",
        "colab_type": "code",
        "colab": {}
      },
      "source": [
        ""
      ],
      "execution_count": 0,
      "outputs": []
    },
    {
      "cell_type": "code",
      "metadata": {
        "id": "gtY9RbGwt5NA",
        "colab_type": "code",
        "colab": {}
      },
      "source": [
        "count_of_words_in_real = 0;\n",
        "listrealCounts = [];\n",
        "dict_words_real={};\n",
        "for i in range(len_Xtrain):\n",
        "      \n",
        "      if (y_temp[i]) =='REAL':\n",
        "            for words in X_train_dict[i]:\n",
        "                if words in dict_of_words:\n",
        "                    count_of_words_in_real+=1\n",
        "                    if words in dict_words_real:\n",
        "                        dict_words_real[words]= dict_words_real.get(words)+1;\n",
        "                    else:\n",
        "                        dict_words_real[words]=1;\n",
        "\n",
        "#dict_words_real1['floor']"
      ],
      "execution_count": 0,
      "outputs": []
    },
    {
      "cell_type": "code",
      "metadata": {
        "id": "wdyRl-aSt7Qv",
        "colab_type": "code",
        "colab": {}
      },
      "source": [
        "count_of_words_in_fake = 0;\n",
        "listrealCounts = [];\n",
        "dict_words_fake={};\n",
        "for i in range(len_Xtrain):\n",
        "      \n",
        "      if (y_temp[i]) =='FAKE':\n",
        "            for words in X_train_dict[i]:\n",
        "                if words in dict_of_words:\n",
        "                    count_of_words_in_fake+=1\n",
        "                    if words in dict_words_fake:\n",
        "                        dict_words_fake[words]= dict_words_fake.get(words)+1;\n",
        "                    else:\n",
        "                        dict_words_fake[words]=1;\n"
      ],
      "execution_count": 0,
      "outputs": []
    },
    {
      "cell_type": "code",
      "metadata": {
        "id": "OEJCsQEWuEkA",
        "colab_type": "code",
        "colab": {}
      },
      "source": [
        "dict_words_fakeSet = set(dict_words_fake)\n",
        "dict_words_realSet = set(dict_words_real)\n",
        "\n",
        "prior_real = len(dict_words_realSet)/(len(dict_words_fakeSet)+len(dict_words_realSet))\n",
        "prior_fake = len(dict_words_fakeSet)/(len(dict_words_fakeSet)+len(dict_words_realSet))\n"
      ],
      "execution_count": 0,
      "outputs": []
    },
    {
      "cell_type": "code",
      "metadata": {
        "id": "T7yass18uHWk",
        "colab_type": "code",
        "colab": {}
      },
      "source": [
        "def common_count_generator(val,val_compared_with,val_comp):\n",
        "    common={}\n",
        "   \n",
        "    for name in val.intersection(val_compared_with):\n",
        "        if name in common:\n",
        "            common[name]= common.get(name)+1;\n",
        "        else:\n",
        "            common[name]=val_comp.get(name)\n",
        "\n",
        "    return common"
      ],
      "execution_count": 0,
      "outputs": []
    },
    {
      "cell_type": "code",
      "metadata": {
        "id": "wWLO8njGupsc",
        "colab_type": "code",
        "colab": {}
      },
      "source": [
        "common_real = common_count_generator(dict_words_fakeSet,dict_words_realSet,dict_words_real)\n",
        "common_fake = common_count_generator(dict_words_realSet,dict_words_fakeSet,dict_words_fake)\n"
      ],
      "execution_count": 0,
      "outputs": []
    },
    {
      "cell_type": "code",
      "metadata": {
        "id": "BFs1XUlN0WpO",
        "colab_type": "code",
        "colab": {}
      },
      "source": [
        "real_probabs = {k: v / sum(common_real.values(), 0.0) for k, v in common_real.items()}\n",
        "fake_probabs = {k: v / sum(common_fake.values(), 0.0) for k, v in common_fake.items()}"
      ],
      "execution_count": 0,
      "outputs": []
    },
    {
      "cell_type": "code",
      "metadata": {
        "id": "tXxzbEcuvgPI",
        "colab_type": "code",
        "colab": {}
      },
      "source": [
        "common_words = dict.fromkeys(common_fake, 0)"
      ],
      "execution_count": 0,
      "outputs": []
    },
    {
      "cell_type": "code",
      "metadata": {
        "id": "c3E04maO0XJH",
        "colab_type": "code",
        "colab": {}
      },
      "source": [
        "res_real = nlargest(20, common_real, key = common_real.get)\n",
        "res_fake = nlargest(20,common_fake, key= common_fake.get)"
      ],
      "execution_count": 0,
      "outputs": []
    },
    {
      "cell_type": "code",
      "metadata": {
        "id": "3btALAdz0XWK",
        "colab_type": "code",
        "colab": {}
      },
      "source": [
        "val_real = []\n",
        "val_fake = []\n",
        "for word in res_real:\n",
        "  val_real.append(common_real.get(word))\n",
        "for word in res_fake:\n",
        "  val_fake.append(common_fake.get(word))"
      ],
      "execution_count": 0,
      "outputs": []
    },
    {
      "cell_type": "code",
      "metadata": {
        "id": "oHuMKXQ5u8x5",
        "colab_type": "code",
        "colab": {
          "base_uri": "https://localhost:8080/",
          "height": 485
        },
        "outputId": "b388de39-e93a-4c38-c0f2-2367553ecd2e"
      },
      "source": [
        "height = val_real\n",
        "bars = (res_real)\n",
        "y_pos = np.arange(len(bars))\n",
        "plt.figure(figsize=(8, 6), dpi=80)\n",
        "plt.bar(y_pos, height)\n",
        "plt.xticks(y_pos, bars,rotation = 'vertical',color='Yellow')\n",
        "plt.title('Top 20 most frequently occuring words in real articles',color='Yellow')\n",
        "plt.show()"
      ],
      "execution_count": 19,
      "outputs": [
        {
          "output_type": "display_data",
          "data": {
            "image/png": "[encoded data removed]",
            "text/plain": [
              "<Figure size 640x480 with 1 Axes>"
            ]
          },
          "metadata": {
            "tags": []
          }
        }
      ]
    },
    {
      "cell_type": "code",
      "metadata": {
        "id": "P5hImd7_vW04",
        "colab_type": "code",
        "colab": {
          "base_uri": "https://localhost:8080/",
          "height": 487
        },
        "outputId": "c2cf640e-91af-4600-ff3f-1d593e8a2fd8"
      },
      "source": [
        "sht = val_fake\n",
        "bars_t = (res_fake)\n",
        "y_pos_1 = np.arange(len(bars))\n",
        "plt.figure(figsize=(8, 6), dpi=80)\n",
        "plt.title('Top 20 Most frequently occuring words in fake articles',color = 'Yellow')\n",
        "plt.bar(y_pos_1, height)\n",
        "plt.xticks(y_pos_1, bars_t,rotation = 'vertical',color='Yellow')\n",
        "plt.show()\n"
      ],
      "execution_count": 20,
      "outputs": [
        {
          "output_type": "display_data",
          "data": {
            "image/png": "[encoded data removed]",
            "text/plain": [
              "<Figure size 640x480 with 1 Axes>"
            ]
          },
          "metadata": {
            "tags": []
          }
        }
      ]
    },
    {
      "cell_type": "code",
      "metadata": {
        "id": "UMNAuDcdvgd1",
        "colab_type": "code",
        "colab": {}
      },
      "source": [
        ""
      ],
      "execution_count": 0,
      "outputs": []
    },
    {
      "cell_type": "code",
      "metadata": {
        "id": "4MK5nMsZ5Izv",
        "colab_type": "code",
        "colab": {}
      },
      "source": [
        ""
      ],
      "execution_count": 0,
      "outputs": []
    },
    {
      "cell_type": "code",
      "metadata": {
        "id": "zprMZE61FVOq",
        "colab_type": "code",
        "colab": {}
      },
      "source": [
        ""
      ],
      "execution_count": 0,
      "outputs": []
    },
    {
      "cell_type": "code",
      "metadata": {
        "id": "wQeiVSWFbRto",
        "colab_type": "code",
        "colab": {}
      },
      "source": [
        ""
      ],
      "execution_count": 0,
      "outputs": []
    },
    {
      "cell_type": "code",
      "metadata": {
        "id": "LcEzNC80b_sm",
        "colab_type": "code",
        "colab": {}
      },
      "source": [
        "\n",
        "X_test_dict = np.asanyarray(tokenize(X_test))\n",
        "count_per_article = {}\n",
        "\n",
        "correct_count = 0\n",
        "predictions = []\n",
        "acc = []\n",
        "for idx,i in enumerate(X_test_dict):\n",
        " \n",
        "  prob_r=0\n",
        "  prob_f=0\n",
        "  c = common_words\n",
        "  for words in i:\n",
        "        if(len(words)>2):\n",
        "          if words in common_words.keys():\n",
        "            c[words]=c.get(words)+1\n",
        "\n",
        "            prob_r += np.log2(real_probabs[words])*np.log2(1+ c[words])\n",
        "            prob_f += np.log2(fake_probabs[words])*np.log2(1+ c[words]) \n",
        "\n",
        "  prob_r = prob_r + np.log2(prior_real)\n",
        "  prob_f = prob_f + np.log2(prior_fake) \n",
        "  \n",
        "  \n",
        "  assigned_class= None;\n",
        "  if(prob_r>prob_f):\n",
        "    res = 'REAL'\n",
        "    if(y_test.iloc[idx]== 'REAL'):\n",
        "      correct_count+=1\n",
        "    \n",
        "  else:\n",
        "    res = 'FAKE'\n",
        "    if(y_test.iloc[idx]== 'FAKE'):\n",
        "      correct_count+=1\n",
        "    assigned_class = 'FAKE'\n",
        "   \n",
        "  accuracy= correct_count/len(X_test_dict) *100\n",
        "  acc.append(accuracy)\n",
        "  predictions.append(res)\n",
        "  "
      ],
      "execution_count": 0,
      "outputs": []
    },
    {
      "cell_type": "code",
      "metadata": {
        "id": "QbLjQQVf3eQk",
        "colab_type": "code",
        "colab": {
          "base_uri": "https://localhost:8080/",
          "height": 298
        },
        "outputId": "80f421c1-2dea-4361-9d3d-02fa5e7181c1"
      },
      "source": [
        "cf_matrix = confusion_matrix(y_test, predictions, labels=[\"REAL\", \"FAKE\"])\n",
        "sns.heatmap(cf_matrix, annot=True)\n",
        "\n",
        "cf_matrix"
      ],
      "execution_count": 33,
      "outputs": [
        {
          "output_type": "execute_result",
          "data": {
            "text/plain": [
              "array([[182, 135],\n",
              "       [  9, 298]])"
            ]
          },
          "metadata": {
            "tags": []
          },
          "execution_count": 33
        },
        {
          "output_type": "display_data",
          "data": {
            "image/png": "[encoded data removed]",
            "text/plain": [
              "<Figure size 432x288 with 2 Axes>"
            ]
          },
          "metadata": {
            "tags": [],
            "needs_background": "light"
          }
        }
      ]
    },
    {
      "cell_type": "code",
      "metadata": {
        "id": "XVjnZvbddNKq",
        "colab_type": "code",
        "colab": {
          "base_uri": "https://localhost:8080/",
          "height": 33
        },
        "outputId": "6d3126ae-9b48-4d39-8f1d-52b7a0a97cd0"
      },
      "source": [
        "accuracy= correct_count/len(X_test_dict) *100\n",
        "accuracy"
      ],
      "execution_count": 34,
      "outputs": [
        {
          "output_type": "execute_result",
          "data": {
            "text/plain": [
              "76.92307692307693"
            ]
          },
          "metadata": {
            "tags": []
          },
          "execution_count": 34
        }
      ]
    },
    {
      "cell_type": "code",
      "metadata": {
        "id": "KgyruSuTdVh3",
        "colab_type": "code",
        "colab": {}
      },
      "source": [
        "plt.plot(acc)"
      ],
      "execution_count": 0,
      "outputs": []
    },
    {
      "cell_type": "code",
      "metadata": {
        "id": "1UQlW390ksJy",
        "colab_type": "code",
        "colab": {}
      },
      "source": [
        ""
      ],
      "execution_count": 0,
      "outputs": []
    },
    {
      "cell_type": "code",
      "metadata": {
        "id": "CxKrarev0A1Q",
        "colab_type": "code",
        "colab": {}
      },
      "source": [
        ""
      ],
      "execution_count": 0,
      "outputs": []
    },
    {
      "cell_type": "code",
      "metadata": {
        "id": "KCuj0QrE0E81",
        "colab_type": "code",
        "colab": {}
      },
      "source": [
        ""
      ],
      "execution_count": 0,
      "outputs": []
    }
  ]
}