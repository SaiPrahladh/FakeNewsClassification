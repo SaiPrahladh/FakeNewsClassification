{
 "cells": [
  {
   "cell_type": "code",
   "execution_count": 68,
   "metadata": {},
   "outputs": [
    {
     "name": "stderr",
     "output_type": "stream",
     "text": [
      "[nltk_data] Downloading package stopwords to\n",
      "[nltk_data]     /Users/rohanbansal/nltk_data...\n",
      "[nltk_data]   Package stopwords is already up-to-date!\n"
     ]
    },
    {
     "data": {
      "text/plain": [
       "True"
      ]
     },
     "execution_count": 68,
     "metadata": {},
     "output_type": "execute_result"
    }
   ],
   "source": [
    "import pandas as pd\n",
    "from sklearn import *\n",
    "import re\n",
    "import numpy as np\n",
    "import nltk\n",
    "from nltk.corpus import stopwords \n",
    "nltk.download('stopwords')\n"
   ]
  },
  {
   "cell_type": "code",
   "execution_count": 69,
   "metadata": {},
   "outputs": [],
   "source": [
    "df = pd.read_csv(\"https://s3.amazonaws.com/assets.datacamp.com/blog_assets/fake_or_real_news.csv\")\n"
   ]
  },
  {
   "cell_type": "code",
   "execution_count": 70,
   "metadata": {},
   "outputs": [],
   "source": [
    "df = df.set_index(\"Unnamed: 0\") "
   ]
  },
  {
   "cell_type": "code",
   "execution_count": 75,
   "metadata": {},
   "outputs": [
    {
     "name": "stdout",
     "output_type": "stream",
     "text": [
      "(6335,)\n"
     ]
    }
   ],
   "source": [
    "y = df['label']\n",
    "df.drop(\"label\", axis=1)\n",
    "X_train, X_test, y_train, y_test = model_selection.train_test_split(df['text'], y, test_size=0.25, random_state=53)"
   ]
  },
  {
   "cell_type": "code",
   "execution_count": 58,
   "metadata": {},
   "outputs": [],
   "source": [
    "def get_words(sentence):\n",
    "    ignore = ['a','an','the','is','in','ourselves', 'hers', 'between', 'yourself', 'but', 'again', 'there', 'about', 'once', 'during', 'out', 'very', 'having', 'with', 'they', 'own', 'be', 'some', 'for', 'do', 'its', 'yours', 'such', 'into', 'of', 'most', 'itself', 'other', 'off', 'am', 'or', 'who', 'as', 'from', 'him', 'each']\n",
    "    words = re.sub(\"[^A-Za-z0–9\\w]\", \" \",  sentence).split()\n",
    "    cleaned_text = [w.lower() for w in words if w not in ignore]    \n",
    "    return cleaned_text"
   ]
  },
  {
   "cell_type": "code",
   "execution_count": 59,
   "metadata": {},
   "outputs": [],
   "source": [
    "\n",
    "def tokenize(Text):\n",
    "    w = []\n",
    "    for index in range(len(Text)):\n",
    "    \n",
    "        w.append(get_words(Text.iloc[index]))\n",
    "    return w"
   ]
  },
  {
   "cell_type": "code",
   "execution_count": 60,
   "metadata": {},
   "outputs": [],
   "source": [
    "stop_words = set(stopwords.words('english')) \n"
   ]
  },
  {
   "cell_type": "code",
   "execution_count": 61,
   "metadata": {},
   "outputs": [],
   "source": [
    "\n",
    "X_train_dict = np.asanyarray(tokenize(X_train))\n",
    "\n",
    "dict_of_words = {}\n",
    "\n",
    "for i in X_train_dict:\n",
    "    for words in i:\n",
    "        if(len(words)>2):\n",
    "            if dict_of_words.get(words)!=None:\n",
    "                dict_of_words[words]=dict_of_words.get(words)+1\n",
    "            elif words in stop_words:\n",
    "                continue\n",
    "            else:\n",
    "                dict_of_words[words]=1\n",
    "            \n",
    "dict_of_words = {k: v for k, v in sorted(dict_of_words.items(), key=lambda item: item[1],reverse=True)}"
   ]
  },
  {
   "cell_type": "code",
   "execution_count": 78,
   "metadata": {},
   "outputs": [
    {
     "data": {
      "text/plain": [
       "'FAKE'"
      ]
     },
     "execution_count": 78,
     "metadata": {},
     "output_type": "execute_result"
    }
   ],
   "source": [
    "# {k: v for k, v in sorted(dict_of_words.items(), key=lambda item: item[1],reverse=True)}\n",
    "len_Xtrain = X_train_dict.shape[0]\n",
    "y_temp = list(y)\n"
   ]
  },
  {
   "cell_type": "code",
   "execution_count": 106,
   "metadata": {},
   "outputs": [],
   "source": [
    "count_of_words_in_fake = 0;\n",
    "listfakeCounts = [];\n",
    "for i in range(1,len_Xtrain):\n",
    "      dict_words_fake={};\n",
    "      if (y_temp[i]) =='FAKE':\n",
    "            for words in X_train_dict[i]:\n",
    "                if words in dict_of_words:\n",
    "                    if words in dict_words_fake:\n",
    "                        dict_words_fake[words]= dict_words_fake.get(words)+1;\n",
    "                    else:\n",
    "                        dict_words_fake[words]=1;\n",
    "            listfakeCounts.append(dict_words_fake.items())\n",
    "        \n",
    "        \n",
    "\n",
    "\n",
    "            "
   ]
  },
  {
   "cell_type": "code",
   "execution_count": 110,
   "metadata": {},
   "outputs": [
    {
     "data": {
      "text/plain": [
       "dict_items([('washington', 1), ('cnn', 2), ('future', 1), ('health', 6), ('care', 4), ('america', 1), ('table', 1), ('serious', 3), ('jeopardy', 1), ('wednesday', 2), ('morning', 1), ('supreme', 5), ('court', 11), ('hour', 2), ('arguments', 3), ('seemed', 1), ('divided', 1), ('case', 7), ('concerning', 2), ('congress', 10), ('meant', 4), ('one', 3), ('specific', 1), ('four', 5), ('word', 2), ('clause', 1), ('affordable', 2), ('act', 2), ('respect', 1), ('eligible', 4), ('subsidies', 12), ('provided', 1), ('federal', 3), ('government', 6), ('help', 1), ('people', 3), ('buy', 1), ('insurance', 6), ('ultimately', 1), ('rules', 1), ('obama', 3), ('administration', 2), ('million', 1), ('individuals', 5), ('longer', 1), ('shaking', 1), ('market', 2), ('potentially', 1), ('dealing', 1), ('law', 16), ('fatal', 1), ('blow', 1), ('decision', 2), ('likely', 1), ('announced', 1), ('may', 3), ('june', 1), ('eyes', 1), ('chief', 1), ('justice', 8), ('john', 1), ('roberts', 3), ('surprised', 1), ('many', 2), ('2012', 2), ('voted', 1), ('uphold', 1), ('said', 13), ('next', 1), ('nothing', 3), ('clear', 2), ('strategy', 1), ('tip', 1), ('hand', 1), ('either', 2), ('way', 1), ('usually', 1), ('active', 1), ('participant', 1), ('oral', 1), ('almost', 2), ('half', 1), ('analyst', 1), ('jeffrey', 1), ('toobin', 1), ('attended', 1), ('much', 1), ('focus', 2), ('attention', 1), ('vote', 1), ('first', 1), ('obamacare', 1), ('somehow', 1), ('want', 1), ('give', 2), ('preview', 1), ('thinking', 1), ('barely', 1), ('liberal', 1), ('justices', 2), ('came', 1), ('gate', 1), ('tough', 1), ('questions', 2), ('michael', 1), ('carvin', 5), ('lawyer', 1), ('challenging', 1), ('interpretation', 2), ('states', 13), ('choose', 1), ('set', 4), ('exchanges', 13), ('step', 1), ('run', 4), ('distribute', 1), ('argued', 2), ('text', 3), ('authorized', 1), ('middle', 1), ('low', 1), ('income', 1), ('living', 2), ('established', 3), ('millions', 2), ('americans', 2), ('receiving', 1), ('federally', 4), ('facilitated', 3), ('elena', 1), ('kagan', 2), ('suggested', 4), ('interpreted', 2), ('whole', 2), ('context', 1), ('snippet', 1), ('challengers', 6), ('look', 2), ('words', 5), ('also', 2), ('referred', 1), ('legal', 4), ('challenges', 1), ('never', 1), ('ending', 1), ('saga', 1), ('sonia', 1), ('sotomayor', 2), ('concerned', 2), ('able', 1), ('receive', 1), ('going', 3), ('death', 2), ('spiral', 2), ('system', 1), ('created', 1), ('avoid', 1), ('wondered', 1), ('bother', 1), ('appear', 1), ('prominently', 1), ('like', 1), ('hiding', 1), ('huge', 1), ('thing', 1), ('mousetrap', 1), ('really', 2), ('believe', 1), ('fully', 1), ('understood', 1), ('asked', 3), ('get', 1), ('ruth', 1), ('bader', 1), ('ginsburg', 2), ('issue', 3), ('buried', 1), ('body', 1), ('legislation', 2), ('would', 3), ('expect', 1), ('find', 1), ('anthony', 1), ('kennedy', 3), ('could', 4), ('sides', 1), ('clearly', 1), ('federalism', 2), ('aspects', 1), ('let', 1), ('say', 2), ('standpoint', 1), ('dynamics', 1), ('seem', 1), ('something', 1), ('powerful', 1), ('point', 2), ('argument', 5), ('accepted', 1), ('told', 2), ('create', 2), ('exchange', 1), ('send', 1), ('grilled', 1), ('consequences', 2), ('seems', 1), ('perhaps', 1), ('prevail', 2), ('plain', 1), ('statute', 6), ('constitutional', 1), ('problem', 1), ('adopt', 1), ('irs', 4), ('charged', 2), ('implementing', 1), ('interprets', 1), ('available', 2), ('nationwide', 1), ('solicitor', 1), ('general', 1), ('donald', 1), ('verrilli', 5), ('defended', 1), ('position', 2), ('ridiculed', 1), ('saying', 2), ('revokes', 1), ('promise', 1), ('cannot', 1), ('intended', 2), ('immediately', 1), ('challenged', 2), ('antonin', 1), ('scalia', 2), ('mean', 1), ('question', 2), ('whether', 2), ('wrote', 1), ('although', 1), ('usual', 1), ('clarence', 1), ('thomas', 1), ('samuel', 1), ('alito', 1), ('critical', 1), ('true', 1), ('caught', 1), ('guard', 1), ('state', 3), ('sign', 1), ('amicus', 1), ('briefs', 3), ('refuted', 1), ('notion', 1), ('sky', 1), ('might', 1), ('fall', 1), ('stay', 1), ('end', 1), ('tax', 1), ('season', 1), ('think', 1), ('sit', 1), ('disastrous', 1), ('ensue', 1), ('paused', 1), ('laughter', 1), ('well', 1), ('ask', 1), ('heart', 1), ('wondering', 1), ('reasonable', 1), ('interpreting', 1), ('part', 1), ('billions', 2), ('dollars', 2), ('brought', 1), ('standing', 1), ('bringing', 1), ('lawsuit', 1), ('right', 1), ('certainly', 1), ('reach', 1), ('mandates', 1), ('president', 1), ('barack', 1), ('expressed', 1), ('confidence', 1), ('underpinning', 1), ('recent', 1), ('days', 1), ('view', 1), ('plausible', 1), ('basis', 1), ('striking', 1), ('reuters', 1), ('week', 2), ('hearing', 1), ('marks', 1), ('third', 1), ('time', 1), ('parts', 1), ('king', 1), ('burwell', 2), ('always', 1), ('limit', 1), ('encourage', 1), ('acted', 1), ('argue', 1), ('tried', 1), ('move', 1), ('interpret', 1), ('differently', 1), ('republican', 1), ('critics', 1), ('texas', 1), ('sen', 1), ('ted', 1), ('cruz', 1), ('filed', 2), ('warning', 1), ('executive', 1), ('encroaching', 1), ('making', 1), ('function', 1), ('opens', 1), ('door', 1), ('hundreds', 1), ('additional', 1), ('spending', 1), ('hatch', 1), ('republicans', 1), ('work', 1), ('freedom', 1), ('flexibility', 1), ('better', 1), ('competitive', 1), ('markets', 1), ('offering', 1), ('options', 1), ('different', 1), ('choices', 1), ('stressed', 1), ('found', 1), ('section', 1), ('term', 1), ('art', 1), ('include', 1), ('need', 1), ('read', 1), ('entire', 1), ('understand', 1), ('enrolled', 1), ('democratic', 1), ('congressmen', 1), ('involved', 1), ('crafting', 1), ('behalf', 1), ('arguing', 1), ('intent', 1), ('provide', 1), ('possible', 1), ('consistent', 1), ('history', 1), ('last', 1), ('human', 1), ('services', 1), ('secretary', 1), ('sylvia', 1), ('mathews', 1), ('warned', 1), ('loses', 1), ('prepared', 1), ('back', 1), ('plan', 1), ('undo', 1), ('massive', 1), ('damage', 1)])"
      ]
     },
     "execution_count": 110,
     "metadata": {},
     "output_type": "execute_result"
    }
   ],
   "source": []
  },
  {
   "cell_type": "code",
   "execution_count": null,
   "metadata": {},
   "outputs": [],
   "source": []
  },
  {
   "cell_type": "code",
   "execution_count": null,
   "metadata": {},
   "outputs": [],
   "source": []
  }
 ],
 "metadata": {
  "kernelspec": {
   "display_name": "Python 3",
   "language": "python",
   "name": "python3"
  }
 },
 "nbformat": 4,
 "nbformat_minor": 2
}
